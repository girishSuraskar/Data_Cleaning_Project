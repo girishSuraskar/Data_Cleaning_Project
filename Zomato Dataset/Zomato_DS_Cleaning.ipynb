{
 "cells": [
  {
   "cell_type": "markdown",
   "id": "3030cee8-fa26-412e-a93a-27d0b2ceb350",
   "metadata": {},
   "source": [
    "# Task to be performed\n",
    "Deleting redundant columns.\n",
    "Drop duplicates.\n",
    "Remove the Nan values from the dataset\n",
    "Cleaning individual columns\n",
    "Check for some more transformations"
   ]
  },
  {
   "cell_type": "code",
   "execution_count": 80,
   "id": "4d2b09f4-8cf8-4e91-9ff7-b2897a788eb5",
   "metadata": {},
   "outputs": [],
   "source": [
    "import pandas as pd"
   ]
  },
  {
   "cell_type": "code",
   "execution_count": 91,
   "id": "bd714ec7-cf1b-474b-a745-4dcebe6c0ab9",
   "metadata": {},
   "outputs": [],
   "source": [
    "data = pd.read_csv(\"zomato.csv\")  #Loading dataset into dataframe"
   ]
  },
  {
   "cell_type": "code",
   "execution_count": 92,
   "id": "cf577a94-15e7-4706-87f5-1aca0609ae3c",
   "metadata": {},
   "outputs": [
    {
     "data": {
      "text/html": [
       "<div>\n",
       "<style scoped>\n",
       "    .dataframe tbody tr th:only-of-type {\n",
       "        vertical-align: middle;\n",
       "    }\n",
       "\n",
       "    .dataframe tbody tr th {\n",
       "        vertical-align: top;\n",
       "    }\n",
       "\n",
       "    .dataframe thead th {\n",
       "        text-align: right;\n",
       "    }\n",
       "</style>\n",
       "<table border=\"1\" class=\"dataframe\">\n",
       "  <thead>\n",
       "    <tr style=\"text-align: right;\">\n",
       "      <th></th>\n",
       "      <th>url</th>\n",
       "      <th>address</th>\n",
       "      <th>name</th>\n",
       "      <th>online_order</th>\n",
       "      <th>book_table</th>\n",
       "      <th>rate</th>\n",
       "      <th>votes</th>\n",
       "      <th>phone</th>\n",
       "      <th>location</th>\n",
       "      <th>rest_type</th>\n",
       "      <th>dish_liked</th>\n",
       "      <th>cuisines</th>\n",
       "      <th>approx_cost(for two people)</th>\n",
       "      <th>reviews_list</th>\n",
       "      <th>menu_item</th>\n",
       "      <th>listed_in(type)</th>\n",
       "      <th>listed_in(city)</th>\n",
       "    </tr>\n",
       "  </thead>\n",
       "  <tbody>\n",
       "    <tr>\n",
       "      <th>0</th>\n",
       "      <td>https://www.zomato.com/bangalore/jalsa-banasha...</td>\n",
       "      <td>942, 21st Main Road, 2nd Stage, Banashankari, ...</td>\n",
       "      <td>Jalsa</td>\n",
       "      <td>Yes</td>\n",
       "      <td>Yes</td>\n",
       "      <td>4.1/5</td>\n",
       "      <td>775</td>\n",
       "      <td>080 42297555\\r\\n+91 9743772233</td>\n",
       "      <td>Banashankari</td>\n",
       "      <td>Casual Dining</td>\n",
       "      <td>Pasta, Lunch Buffet, Masala Papad, Paneer Laja...</td>\n",
       "      <td>North Indian, Mughlai, Chinese</td>\n",
       "      <td>800</td>\n",
       "      <td>[('Rated 4.0', 'RATED\\n  A beautiful place to ...</td>\n",
       "      <td>[]</td>\n",
       "      <td>Buffet</td>\n",
       "      <td>Banashankari</td>\n",
       "    </tr>\n",
       "    <tr>\n",
       "      <th>1</th>\n",
       "      <td>https://www.zomato.com/bangalore/spice-elephan...</td>\n",
       "      <td>2nd Floor, 80 Feet Road, Near Big Bazaar, 6th ...</td>\n",
       "      <td>Spice Elephant</td>\n",
       "      <td>Yes</td>\n",
       "      <td>No</td>\n",
       "      <td>4.1/5</td>\n",
       "      <td>787</td>\n",
       "      <td>080 41714161</td>\n",
       "      <td>Banashankari</td>\n",
       "      <td>Casual Dining</td>\n",
       "      <td>Momos, Lunch Buffet, Chocolate Nirvana, Thai G...</td>\n",
       "      <td>Chinese, North Indian, Thai</td>\n",
       "      <td>800</td>\n",
       "      <td>[('Rated 4.0', 'RATED\\n  Had been here for din...</td>\n",
       "      <td>[]</td>\n",
       "      <td>Buffet</td>\n",
       "      <td>Banashankari</td>\n",
       "    </tr>\n",
       "    <tr>\n",
       "      <th>2</th>\n",
       "      <td>https://www.zomato.com/SanchurroBangalore?cont...</td>\n",
       "      <td>1112, Next to KIMS Medical College, 17th Cross...</td>\n",
       "      <td>San Churro Cafe</td>\n",
       "      <td>Yes</td>\n",
       "      <td>No</td>\n",
       "      <td>3.8/5</td>\n",
       "      <td>918</td>\n",
       "      <td>+91 9663487993</td>\n",
       "      <td>Banashankari</td>\n",
       "      <td>Cafe, Casual Dining</td>\n",
       "      <td>Churros, Cannelloni, Minestrone Soup, Hot Choc...</td>\n",
       "      <td>Cafe, Mexican, Italian</td>\n",
       "      <td>800</td>\n",
       "      <td>[('Rated 3.0', \"RATED\\n  Ambience is not that ...</td>\n",
       "      <td>[]</td>\n",
       "      <td>Buffet</td>\n",
       "      <td>Banashankari</td>\n",
       "    </tr>\n",
       "    <tr>\n",
       "      <th>3</th>\n",
       "      <td>https://www.zomato.com/bangalore/addhuri-udupi...</td>\n",
       "      <td>1st Floor, Annakuteera, 3rd Stage, Banashankar...</td>\n",
       "      <td>Addhuri Udupi Bhojana</td>\n",
       "      <td>No</td>\n",
       "      <td>No</td>\n",
       "      <td>3.7/5</td>\n",
       "      <td>88</td>\n",
       "      <td>+91 9620009302</td>\n",
       "      <td>Banashankari</td>\n",
       "      <td>Quick Bites</td>\n",
       "      <td>Masala Dosa</td>\n",
       "      <td>South Indian, North Indian</td>\n",
       "      <td>300</td>\n",
       "      <td>[('Rated 4.0', \"RATED\\n  Great food and proper...</td>\n",
       "      <td>[]</td>\n",
       "      <td>Buffet</td>\n",
       "      <td>Banashankari</td>\n",
       "    </tr>\n",
       "    <tr>\n",
       "      <th>4</th>\n",
       "      <td>https://www.zomato.com/bangalore/grand-village...</td>\n",
       "      <td>10, 3rd Floor, Lakshmi Associates, Gandhi Baza...</td>\n",
       "      <td>Grand Village</td>\n",
       "      <td>No</td>\n",
       "      <td>No</td>\n",
       "      <td>3.8/5</td>\n",
       "      <td>166</td>\n",
       "      <td>+91 8026612447\\r\\n+91 9901210005</td>\n",
       "      <td>Basavanagudi</td>\n",
       "      <td>Casual Dining</td>\n",
       "      <td>Panipuri, Gol Gappe</td>\n",
       "      <td>North Indian, Rajasthani</td>\n",
       "      <td>600</td>\n",
       "      <td>[('Rated 4.0', 'RATED\\n  Very good restaurant ...</td>\n",
       "      <td>[]</td>\n",
       "      <td>Buffet</td>\n",
       "      <td>Banashankari</td>\n",
       "    </tr>\n",
       "  </tbody>\n",
       "</table>\n",
       "</div>"
      ],
      "text/plain": [
       "                                                 url  \\\n",
       "0  https://www.zomato.com/bangalore/jalsa-banasha...   \n",
       "1  https://www.zomato.com/bangalore/spice-elephan...   \n",
       "2  https://www.zomato.com/SanchurroBangalore?cont...   \n",
       "3  https://www.zomato.com/bangalore/addhuri-udupi...   \n",
       "4  https://www.zomato.com/bangalore/grand-village...   \n",
       "\n",
       "                                             address                   name  \\\n",
       "0  942, 21st Main Road, 2nd Stage, Banashankari, ...                  Jalsa   \n",
       "1  2nd Floor, 80 Feet Road, Near Big Bazaar, 6th ...         Spice Elephant   \n",
       "2  1112, Next to KIMS Medical College, 17th Cross...        San Churro Cafe   \n",
       "3  1st Floor, Annakuteera, 3rd Stage, Banashankar...  Addhuri Udupi Bhojana   \n",
       "4  10, 3rd Floor, Lakshmi Associates, Gandhi Baza...          Grand Village   \n",
       "\n",
       "  online_order book_table   rate  votes                             phone  \\\n",
       "0          Yes        Yes  4.1/5    775    080 42297555\\r\\n+91 9743772233   \n",
       "1          Yes         No  4.1/5    787                      080 41714161   \n",
       "2          Yes         No  3.8/5    918                    +91 9663487993   \n",
       "3           No         No  3.7/5     88                    +91 9620009302   \n",
       "4           No         No  3.8/5    166  +91 8026612447\\r\\n+91 9901210005   \n",
       "\n",
       "       location            rest_type  \\\n",
       "0  Banashankari        Casual Dining   \n",
       "1  Banashankari        Casual Dining   \n",
       "2  Banashankari  Cafe, Casual Dining   \n",
       "3  Banashankari          Quick Bites   \n",
       "4  Basavanagudi        Casual Dining   \n",
       "\n",
       "                                          dish_liked  \\\n",
       "0  Pasta, Lunch Buffet, Masala Papad, Paneer Laja...   \n",
       "1  Momos, Lunch Buffet, Chocolate Nirvana, Thai G...   \n",
       "2  Churros, Cannelloni, Minestrone Soup, Hot Choc...   \n",
       "3                                        Masala Dosa   \n",
       "4                                Panipuri, Gol Gappe   \n",
       "\n",
       "                         cuisines approx_cost(for two people)  \\\n",
       "0  North Indian, Mughlai, Chinese                         800   \n",
       "1     Chinese, North Indian, Thai                         800   \n",
       "2          Cafe, Mexican, Italian                         800   \n",
       "3      South Indian, North Indian                         300   \n",
       "4        North Indian, Rajasthani                         600   \n",
       "\n",
       "                                        reviews_list menu_item  \\\n",
       "0  [('Rated 4.0', 'RATED\\n  A beautiful place to ...        []   \n",
       "1  [('Rated 4.0', 'RATED\\n  Had been here for din...        []   \n",
       "2  [('Rated 3.0', \"RATED\\n  Ambience is not that ...        []   \n",
       "3  [('Rated 4.0', \"RATED\\n  Great food and proper...        []   \n",
       "4  [('Rated 4.0', 'RATED\\n  Very good restaurant ...        []   \n",
       "\n",
       "  listed_in(type) listed_in(city)  \n",
       "0          Buffet    Banashankari  \n",
       "1          Buffet    Banashankari  \n",
       "2          Buffet    Banashankari  \n",
       "3          Buffet    Banashankari  \n",
       "4          Buffet    Banashankari  "
      ]
     },
     "execution_count": 92,
     "metadata": {},
     "output_type": "execute_result"
    }
   ],
   "source": [
    "data.head(5)"
   ]
  },
  {
   "cell_type": "code",
   "execution_count": 93,
   "id": "badd9c98-83ac-47e4-af83-40b719f1d469",
   "metadata": {},
   "outputs": [
    {
     "name": "stdout",
     "output_type": "stream",
     "text": [
      "<class 'pandas.core.frame.DataFrame'>\n",
      "RangeIndex: 51717 entries, 0 to 51716\n",
      "Data columns (total 17 columns):\n",
      " #   Column                       Non-Null Count  Dtype \n",
      "---  ------                       --------------  ----- \n",
      " 0   url                          51717 non-null  object\n",
      " 1   address                      51717 non-null  object\n",
      " 2   name                         51717 non-null  object\n",
      " 3   online_order                 51717 non-null  object\n",
      " 4   book_table                   51717 non-null  object\n",
      " 5   rate                         43942 non-null  object\n",
      " 6   votes                        51717 non-null  int64 \n",
      " 7   phone                        50509 non-null  object\n",
      " 8   location                     51696 non-null  object\n",
      " 9   rest_type                    51490 non-null  object\n",
      " 10  dish_liked                   23639 non-null  object\n",
      " 11  cuisines                     51672 non-null  object\n",
      " 12  approx_cost(for two people)  51371 non-null  object\n",
      " 13  reviews_list                 51717 non-null  object\n",
      " 14  menu_item                    51717 non-null  object\n",
      " 15  listed_in(type)              51717 non-null  object\n",
      " 16  listed_in(city)              51717 non-null  object\n",
      "dtypes: int64(1), object(16)\n",
      "memory usage: 6.7+ MB\n",
      "None\n",
      "(51717, 17)\n"
     ]
    }
   ],
   "source": [
    "print(data.info())\n",
    "print(data.shape)"
   ]
  },
  {
   "cell_type": "markdown",
   "id": "66541c2c-7160-4fd1-baa2-04365ec3ab62",
   "metadata": {},
   "source": [
    "# Getting Column names"
   ]
  },
  {
   "cell_type": "code",
   "execution_count": 94,
   "id": "ef17b111-d22b-410c-9a0f-77c6898eae35",
   "metadata": {},
   "outputs": [
    {
     "name": "stdout",
     "output_type": "stream",
     "text": [
      "Index(['url', 'address', 'name', 'online_order', 'book_table', 'rate', 'votes',\n",
      "       'phone', 'location', 'rest_type', 'dish_liked', 'cuisines',\n",
      "       'approx_cost(for two people)', 'reviews_list', 'menu_item',\n",
      "       'listed_in(type)', 'listed_in(city)'],\n",
      "      dtype='object')\n"
     ]
    }
   ],
   "source": [
    "print(data.columns)"
   ]
  },
  {
   "cell_type": "markdown",
   "id": "aef6e61f-22ba-45d7-8a51-ff0280b3ac80",
   "metadata": {},
   "source": [
    "# Renaming column (removing ())"
   ]
  },
  {
   "cell_type": "code",
   "execution_count": 95,
   "id": "ad5e1f5e-5d7b-4198-bfe8-24f7b5c1c15a",
   "metadata": {},
   "outputs": [
    {
     "name": "stdout",
     "output_type": "stream",
     "text": [
      "Index(['URL', 'ADDRESS', 'NAME', 'ONLINE_ORDER', 'BOOK_TABLE', 'RATE', 'VOTES',\n",
      "       'PHONE', 'LOCATION', 'REST_TYPE', 'DISH_LIKED', 'CUISINES',\n",
      "       'APPROX_COST_FOR_TWO_PEOPLE', 'REVIEWS_LIST', 'MENU_ITEM',\n",
      "       'LISTED_IN_TYPE', 'LISTED_IN_CITY'],\n",
      "      dtype='object')\n"
     ]
    }
   ],
   "source": [
    "data.columns = data.columns.str.replace(r\"[(]\",\"_\",regex = True).str.replace(r\"[)]\",\"\",regex =True).str.replace(\" \",\"_\")\n",
    "data.columns = data.columns.str.upper()\n",
    "print(data.columns)"
   ]
  },
  {
   "cell_type": "markdown",
   "id": "53652b00-ab2c-4abe-a41a-e7cbc826c5ab",
   "metadata": {},
   "source": [
    "# Data Filtaration "
   ]
  },
  {
   "cell_type": "code",
   "execution_count": 96,
   "id": "7f27eaaa-ae29-4071-ae02-9a1b375e08d1",
   "metadata": {},
   "outputs": [
    {
     "name": "stdout",
     "output_type": "stream",
     "text": [
      "Number of columns_to_keep : 6 \n",
      "Number of columns_to_drop : 11\n"
     ]
    }
   ],
   "source": [
    "columns_to_keep = [ 'NAME', 'ONLINE_ORDER', 'BOOK_TABLE', 'RATE','DISH_LIKED','APPROX_COST_FOR_TWO_PEOPLE']\n",
    "columns_to_drop = [col for col in data.columns if col not in columns_to_keep]\n",
    "print(f\"Number of columns_to_keep : {len(columns_to_keep)} \\nNumber of columns_to_drop : {len(columns_to_drop)}\")"
   ]
  },
  {
   "cell_type": "markdown",
   "id": "3e9f79a6-2ef5-4ca5-a9de-a6a0c2b0a180",
   "metadata": {},
   "source": [
    "# 1st way of columns filtaration"
   ]
  },
  {
   "cell_type": "code",
   "execution_count": 97,
   "id": "8e392f33-dcf1-44ea-a1c6-e59e515ad855",
   "metadata": {},
   "outputs": [
    {
     "data": {
      "text/html": [
       "<div>\n",
       "<style scoped>\n",
       "    .dataframe tbody tr th:only-of-type {\n",
       "        vertical-align: middle;\n",
       "    }\n",
       "\n",
       "    .dataframe tbody tr th {\n",
       "        vertical-align: top;\n",
       "    }\n",
       "\n",
       "    .dataframe thead th {\n",
       "        text-align: right;\n",
       "    }\n",
       "</style>\n",
       "<table border=\"1\" class=\"dataframe\">\n",
       "  <thead>\n",
       "    <tr style=\"text-align: right;\">\n",
       "      <th></th>\n",
       "      <th>NAME</th>\n",
       "      <th>ONLINE_ORDER</th>\n",
       "      <th>BOOK_TABLE</th>\n",
       "      <th>RATE</th>\n",
       "      <th>DISH_LIKED</th>\n",
       "      <th>APPROX_COST_FOR_TWO_PEOPLE</th>\n",
       "    </tr>\n",
       "  </thead>\n",
       "  <tbody>\n",
       "    <tr>\n",
       "      <th>0</th>\n",
       "      <td>Jalsa</td>\n",
       "      <td>Yes</td>\n",
       "      <td>Yes</td>\n",
       "      <td>4.1/5</td>\n",
       "      <td>Pasta, Lunch Buffet, Masala Papad, Paneer Laja...</td>\n",
       "      <td>800</td>\n",
       "    </tr>\n",
       "    <tr>\n",
       "      <th>1</th>\n",
       "      <td>Spice Elephant</td>\n",
       "      <td>Yes</td>\n",
       "      <td>No</td>\n",
       "      <td>4.1/5</td>\n",
       "      <td>Momos, Lunch Buffet, Chocolate Nirvana, Thai G...</td>\n",
       "      <td>800</td>\n",
       "    </tr>\n",
       "    <tr>\n",
       "      <th>2</th>\n",
       "      <td>San Churro Cafe</td>\n",
       "      <td>Yes</td>\n",
       "      <td>No</td>\n",
       "      <td>3.8/5</td>\n",
       "      <td>Churros, Cannelloni, Minestrone Soup, Hot Choc...</td>\n",
       "      <td>800</td>\n",
       "    </tr>\n",
       "  </tbody>\n",
       "</table>\n",
       "</div>"
      ],
      "text/plain": [
       "              NAME ONLINE_ORDER BOOK_TABLE   RATE  \\\n",
       "0            Jalsa          Yes        Yes  4.1/5   \n",
       "1   Spice Elephant          Yes         No  4.1/5   \n",
       "2  San Churro Cafe          Yes         No  3.8/5   \n",
       "\n",
       "                                          DISH_LIKED  \\\n",
       "0  Pasta, Lunch Buffet, Masala Papad, Paneer Laja...   \n",
       "1  Momos, Lunch Buffet, Chocolate Nirvana, Thai G...   \n",
       "2  Churros, Cannelloni, Minestrone Soup, Hot Choc...   \n",
       "\n",
       "  APPROX_COST_FOR_TWO_PEOPLE  \n",
       "0                        800  \n",
       "1                        800  \n",
       "2                        800  "
      ]
     },
     "execution_count": 97,
     "metadata": {},
     "output_type": "execute_result"
    }
   ],
   "source": [
    "filtered_data1 = data[columns_to_keep]\n",
    "filtered_data1.head(3)"
   ]
  },
  {
   "cell_type": "markdown",
   "id": "20d43df9-55b3-4b6f-849f-f0dcd4489dab",
   "metadata": {},
   "source": [
    "# 2nd way for filteration:  Dropping columns"
   ]
  },
  {
   "cell_type": "code",
   "execution_count": 98,
   "id": "e9e8375d-4a90-4aba-9056-304522069db7",
   "metadata": {},
   "outputs": [
    {
     "data": {
      "text/html": [
       "<div>\n",
       "<style scoped>\n",
       "    .dataframe tbody tr th:only-of-type {\n",
       "        vertical-align: middle;\n",
       "    }\n",
       "\n",
       "    .dataframe tbody tr th {\n",
       "        vertical-align: top;\n",
       "    }\n",
       "\n",
       "    .dataframe thead th {\n",
       "        text-align: right;\n",
       "    }\n",
       "</style>\n",
       "<table border=\"1\" class=\"dataframe\">\n",
       "  <thead>\n",
       "    <tr style=\"text-align: right;\">\n",
       "      <th></th>\n",
       "      <th>NAME</th>\n",
       "      <th>ONLINE_ORDER</th>\n",
       "      <th>BOOK_TABLE</th>\n",
       "      <th>RATE</th>\n",
       "      <th>DISH_LIKED</th>\n",
       "      <th>APPROX_COST_FOR_TWO_PEOPLE</th>\n",
       "    </tr>\n",
       "  </thead>\n",
       "  <tbody>\n",
       "    <tr>\n",
       "      <th>0</th>\n",
       "      <td>Jalsa</td>\n",
       "      <td>Yes</td>\n",
       "      <td>Yes</td>\n",
       "      <td>4.1/5</td>\n",
       "      <td>Pasta, Lunch Buffet, Masala Papad, Paneer Laja...</td>\n",
       "      <td>800</td>\n",
       "    </tr>\n",
       "    <tr>\n",
       "      <th>1</th>\n",
       "      <td>Spice Elephant</td>\n",
       "      <td>Yes</td>\n",
       "      <td>No</td>\n",
       "      <td>4.1/5</td>\n",
       "      <td>Momos, Lunch Buffet, Chocolate Nirvana, Thai G...</td>\n",
       "      <td>800</td>\n",
       "    </tr>\n",
       "    <tr>\n",
       "      <th>2</th>\n",
       "      <td>San Churro Cafe</td>\n",
       "      <td>Yes</td>\n",
       "      <td>No</td>\n",
       "      <td>3.8/5</td>\n",
       "      <td>Churros, Cannelloni, Minestrone Soup, Hot Choc...</td>\n",
       "      <td>800</td>\n",
       "    </tr>\n",
       "  </tbody>\n",
       "</table>\n",
       "</div>"
      ],
      "text/plain": [
       "              NAME ONLINE_ORDER BOOK_TABLE   RATE  \\\n",
       "0            Jalsa          Yes        Yes  4.1/5   \n",
       "1   Spice Elephant          Yes         No  4.1/5   \n",
       "2  San Churro Cafe          Yes         No  3.8/5   \n",
       "\n",
       "                                          DISH_LIKED  \\\n",
       "0  Pasta, Lunch Buffet, Masala Papad, Paneer Laja...   \n",
       "1  Momos, Lunch Buffet, Chocolate Nirvana, Thai G...   \n",
       "2  Churros, Cannelloni, Minestrone Soup, Hot Choc...   \n",
       "\n",
       "  APPROX_COST_FOR_TWO_PEOPLE  \n",
       "0                        800  \n",
       "1                        800  \n",
       "2                        800  "
      ]
     },
     "execution_count": 98,
     "metadata": {},
     "output_type": "execute_result"
    }
   ],
   "source": [
    "filtered_data2 = data.drop(columns = columns_to_drop)\n",
    "filtered_data2.head(3)"
   ]
  },
  {
   "cell_type": "markdown",
   "id": "9f25e6b4-6eb9-49aa-9270-da75c95b7738",
   "metadata": {},
   "source": [
    "# Data cleaning Operations"
   ]
  },
  {
   "cell_type": "code",
   "execution_count": 99,
   "id": "30f8d31e-5bf9-4aa1-ba1c-24162bc9766b",
   "metadata": {},
   "outputs": [
    {
     "data": {
      "text/plain": [
       "0         4.1/5\n",
       "1         4.1/5\n",
       "2         3.8/5\n",
       "3         3.7/5\n",
       "4         3.8/5\n",
       "          ...  \n",
       "51712    3.6 /5\n",
       "51713       NaN\n",
       "51714       NaN\n",
       "51715    4.3 /5\n",
       "51716    3.4 /5\n",
       "Name: RATE, Length: 51717, dtype: object"
      ]
     },
     "execution_count": 99,
     "metadata": {},
     "output_type": "execute_result"
    }
   ],
   "source": [
    "data['RATE']  # we need to clean it because we want only numarator i.r actual rating not total i.e '/5'"
   ]
  },
  {
   "cell_type": "code",
   "execution_count": 108,
   "id": "a8bd3ea8-7705-4910-92ec-90e62aad7d92",
   "metadata": {},
   "outputs": [
    {
     "name": "stdout",
     "output_type": "stream",
     "text": [
      "0        4.15\n",
      "1        4.15\n",
      "2        3.85\n",
      "3        3.75\n",
      "4        3.85\n",
      "         ... \n",
      "51712    3.65\n",
      "51713     NaN\n",
      "51714     NaN\n",
      "51715    4.35\n",
      "51716    3.45\n",
      "Name: RATE, Length: 51717, dtype: object\n"
     ]
    }
   ],
   "source": [
    "data['RATE'] = data['RATE'].str.replace(r\" \",\"\",regex =True)..str.replace(r\"/5\",\"\",regex =True)\n",
    "print(data['RATE'])"
   ]
  },
  {
   "cell_type": "markdown",
   "id": "75f6e6fc-1d42-47bb-bac5-9c179ef7a18a",
   "metadata": {},
   "source": [
    "# Cleaning Null values"
   ]
  },
  {
   "cell_type": "markdown",
   "id": "619716b7-6a09-4c73-82eb-7539b3d73e6e",
   "metadata": {},
   "source": [
    "# Counting null values in each columns"
   ]
  },
  {
   "cell_type": "code",
   "execution_count": 55,
   "id": "48e4cab9-1844-430f-bf46-8a297cf8a140",
   "metadata": {},
   "outputs": [
    {
     "name": "stdout",
     "output_type": "stream",
     "text": [
      "URL                               0\n",
      "ADDRESS                           0\n",
      "NAME                              0\n",
      "ONLINE_ORDER                      0\n",
      "BOOK_TABLE                        0\n",
      "RATE                              0\n",
      "VOTES                             0\n",
      "PHONE                          1208\n",
      "LOCATION                         21\n",
      "REST_TYPE                       227\n",
      "DISH_LIKED                    28078\n",
      "CUISINES                         45\n",
      "APPROX_COST_FOR_TWO_PEOPLE      346\n",
      "REVIEWS_LIST                      0\n",
      "MENU_ITEM                         0\n",
      "LISTED_IN_TYPE                    0\n",
      "LISTED_IN_CITY                    0\n",
      "dtype: int64\n"
     ]
    }
   ],
   "source": [
    "\n",
    "print(data.isna().sum())"
   ]
  },
  {
   "cell_type": "code",
   "execution_count": 22,
   "id": "47c16f11-07d9-48b1-a3e1-af07b1c731e9",
   "metadata": {},
   "outputs": [
    {
     "name": "stdout",
     "output_type": "stream",
     "text": [
      "0        4.1\n",
      "1        4.1\n",
      "2        3.8\n",
      "3        3.7\n",
      "4        3.8\n",
      "        ... \n",
      "51712    3.6\n",
      "51713    3.7\n",
      "51714    3.7\n",
      "51715    4.3\n",
      "51716    3.4\n",
      "Name: rate, Length: 51717, dtype: float64\n"
     ]
    }
   ],
   "source": [
    "# now replace NAN values with the mean and rounding it only 1 decimal value\n",
    "data['rate'] = pd.to_numeric(data['rate'],errors = 'coerce')\n",
    "data['rate'] = data['rate'].fillna(data['rate'].mean()).round(1)\n",
    "print(data['rate'])"
   ]
  },
  {
   "cell_type": "code",
   "execution_count": 65,
   "id": "4dc40449-58c9-44c6-8b50-9d00267973ac",
   "metadata": {},
   "outputs": [],
   "source": [
    "# Here cant directly use dropna() because it can loos valueable data so ww will fillna()\n",
    "data['PHONE'] = data['PHONE'].fillna(\"Unknown\") # Filling Nan phone number with unknown\n",
    "data['DISH_LIKED'] = data['DISH_LIKED'].fillna(\"Not known\")\n",
    "data['CUISINES'] = data['DISH_LIKED'].fillna(\"Not known\")\n",
    "data['LOCATION'] = data['LOCATION'].fillna(\"Not available\")\n",
    "data['REST_TYPE'] = data['REST_TYPE'].fillna(\"Not known\")\n"
   ]
  },
  {
   "cell_type": "code",
   "execution_count": 66,
   "id": "658dbcbf-5d67-4e81-9cdb-e49cf24af432",
   "metadata": {},
   "outputs": [
    {
     "data": {
      "text/plain": [
       "0          800\n",
       "1          800\n",
       "2          800\n",
       "3          300\n",
       "4          600\n",
       "         ...  \n",
       "51712    1,500\n",
       "51713      600\n",
       "51714    2,000\n",
       "51715    2,500\n",
       "51716    1,500\n",
       "Name: APPROX_COST_FOR_TWO_PEOPLE, Length: 51717, dtype: object"
      ]
     },
     "execution_count": 66,
     "metadata": {},
     "output_type": "execute_result"
    }
   ],
   "source": [
    "data['APPROX_COST_FOR_TWO_PEOPLE']"
   ]
  },
  {
   "cell_type": "code",
   "execution_count": 73,
   "id": "42e2cc22-c6a0-4590-adc4-4ab9cb946515",
   "metadata": {},
   "outputs": [
    {
     "data": {
      "text/plain": [
       "0         800.0\n",
       "1         800.0\n",
       "2         800.0\n",
       "3         300.0\n",
       "4         600.0\n",
       "          ...  \n",
       "51712    1500.0\n",
       "51713     600.0\n",
       "51714    2000.0\n",
       "51715    2500.0\n",
       "51716    1500.0\n",
       "Name: APPROX_COST_FOR_TWO_PEOPLE, Length: 51717, dtype: float64"
      ]
     },
     "execution_count": 73,
     "metadata": {},
     "output_type": "execute_result"
    }
   ],
   "source": [
    "data['APPROX_COST_FOR_TWO_PEOPLE'] = data['APPROX_COST_FOR_TWO_PEOPLE'].str.replace(\",\",\"\").str.replace(\" \",\"\").astype(float)\n",
    "data['APPROX_COST_FOR_TWO_PEOPLE']"
   ]
  },
  {
   "cell_type": "code",
   "execution_count": 77,
   "id": "3b5b7e85-9b03-467d-b889-df2140e5cc40",
   "metadata": {},
   "outputs": [
    {
     "data": {
      "text/plain": [
       "0         800.0\n",
       "1         800.0\n",
       "2         800.0\n",
       "3         300.0\n",
       "4         600.0\n",
       "          ...  \n",
       "51712    1500.0\n",
       "51713     600.0\n",
       "51714    2000.0\n",
       "51715    2500.0\n",
       "51716    1500.0\n",
       "Name: APPROX_COST_FOR_TWO_PEOPLE, Length: 51717, dtype: float64"
      ]
     },
     "execution_count": 77,
     "metadata": {},
     "output_type": "execute_result"
    }
   ],
   "source": [
    "data['APPROX_COST_FOR_TWO_PEOPLE'] = data['APPROX_COST_FOR_TWO_PEOPLE'].fillna(data['APPROX_COST_FOR_TWO_PEOPLE'].median())\n",
    "data['APPROX_COST_FOR_TWO_PEOPLE']"
   ]
  },
  {
   "cell_type": "code",
   "execution_count": 78,
   "id": "00e97c4c-26e4-4169-ab21-bc7b89ada799",
   "metadata": {},
   "outputs": [
    {
     "data": {
      "text/plain": [
       "URL                           0\n",
       "ADDRESS                       0\n",
       "NAME                          0\n",
       "ONLINE_ORDER                  0\n",
       "BOOK_TABLE                    0\n",
       "RATE                          0\n",
       "VOTES                         0\n",
       "PHONE                         0\n",
       "LOCATION                      0\n",
       "REST_TYPE                     0\n",
       "DISH_LIKED                    0\n",
       "CUISINES                      0\n",
       "APPROX_COST_FOR_TWO_PEOPLE    0\n",
       "REVIEWS_LIST                  0\n",
       "MENU_ITEM                     0\n",
       "LISTED_IN_TYPE                0\n",
       "LISTED_IN_CITY                0\n",
       "dtype: int64"
      ]
     },
     "execution_count": 78,
     "metadata": {},
     "output_type": "execute_result"
    }
   ],
   "source": [
    "data.isna().sum()"
   ]
  },
  {
   "cell_type": "markdown",
   "id": "80aacf83-da67-45ef-9993-1ead7f1bdce3",
   "metadata": {},
   "source": [
    "# Checking is there duplicate values"
   ]
  },
  {
   "cell_type": "code",
   "execution_count": 54,
   "id": "db982619-b16c-4095-b184-c3015d238811",
   "metadata": {},
   "outputs": [
    {
     "data": {
      "text/plain": [
       "np.int64(0)"
      ]
     },
     "execution_count": 54,
     "metadata": {},
     "output_type": "execute_result"
    }
   ],
   "source": [
    "data.duplicated().sum()  # no duplicates so no need to drop it"
   ]
  },
  {
   "cell_type": "markdown",
   "id": "ebd190b0-9dd7-4023-a8b3-47f3fb0d6961",
   "metadata": {},
   "source": [
    "# Check for some more transformations"
   ]
  },
  {
   "cell_type": "code",
   "execution_count": 109,
   "id": "20e07a4b-663c-4d48-9fb4-9b93d10a4e27",
   "metadata": {},
   "outputs": [
    {
     "data": {
      "text/plain": [
       "0        Yes\n",
       "1        Yes\n",
       "2        Yes\n",
       "3         No\n",
       "4         No\n",
       "        ... \n",
       "51712     No\n",
       "51713     No\n",
       "51714     No\n",
       "51715     No\n",
       "51716     No\n",
       "Name: ONLINE_ORDER, Length: 51717, dtype: object"
      ]
     },
     "execution_count": 109,
     "metadata": {},
     "output_type": "execute_result"
    }
   ],
   "source": [
    "data['ONLINE_ORDER'] # need to convert this into numeric"
   ]
  },
  {
   "cell_type": "code",
   "execution_count": 112,
   "id": "79371946-d72b-477f-ab39-74972478e6b2",
   "metadata": {},
   "outputs": [
    {
     "data": {
      "text/plain": [
       "0        1\n",
       "1        1\n",
       "2        1\n",
       "3        0\n",
       "4        0\n",
       "        ..\n",
       "51712    0\n",
       "51713    0\n",
       "51714    0\n",
       "51715    0\n",
       "51716    0\n",
       "Name: ONLINE_ORDER, Length: 51717, dtype: int64"
      ]
     },
     "execution_count": 112,
     "metadata": {},
     "output_type": "execute_result"
    }
   ],
   "source": [
    "data['ONLINE_ORDER'] = data['ONLINE_ORDER'].apply(lambda x : 1 if x == 'Yes' else 0)\n",
    "data['ONLINE_ORDER']"
   ]
  },
  {
   "cell_type": "markdown",
   "id": "435b28cb-69b1-48e1-8e0c-b0df0bcc264d",
   "metadata": {},
   "source": [
    "# Saving Cleaned data in csv file or in excel sheet"
   ]
  },
  {
   "cell_type": "code",
   "execution_count": 114,
   "id": "12b0b0ff-a20b-4c93-aee9-c2d674833c02",
   "metadata": {},
   "outputs": [],
   "source": [
    "data.to_csv(\"Cleaned_zomato_dataset.csv\",index = False)\n"
   ]
  },
  {
   "cell_type": "markdown",
   "id": "6b7ebdd9-46d5-4dbe-a98f-6a8f364a8ac8",
   "metadata": {},
   "source": [
    "# To it in Excel sheet you need install openpyxl\n"
   ]
  },
  {
   "cell_type": "code",
   "execution_count": 115,
   "id": "52ccf3cd-2fff-4943-9e36-454a9ceb2174",
   "metadata": {},
   "outputs": [
    {
     "name": "stdout",
     "output_type": "stream",
     "text": [
      "Defaulting to user installation because normal site-packages is not writeable\n",
      "Collecting openpyxl\n",
      "  Downloading openpyxl-3.1.5-py2.py3-none-any.whl.metadata (2.5 kB)\n",
      "Collecting et-xmlfile (from openpyxl)\n",
      "  Downloading et_xmlfile-2.0.0-py3-none-any.whl.metadata (2.7 kB)\n",
      "Downloading openpyxl-3.1.5-py2.py3-none-any.whl (250 kB)\n",
      "Downloading et_xmlfile-2.0.0-py3-none-any.whl (18 kB)\n",
      "Installing collected packages: et-xmlfile, openpyxl\n",
      "Successfully installed et-xmlfile-2.0.0 openpyxl-3.1.5\n"
     ]
    },
    {
     "name": "stderr",
     "output_type": "stream",
     "text": [
      "\n",
      "[notice] A new release of pip is available: 25.0 -> 25.0.1\n",
      "[notice] To update, run: python.exe -m pip install --upgrade pip\n"
     ]
    }
   ],
   "source": [
    "!pip install openpyxl"
   ]
  },
  {
   "cell_type": "code",
   "execution_count": 116,
   "id": "ffcc68ea-33b2-401e-9ecd-a53c65d7184c",
   "metadata": {},
   "outputs": [],
   "source": [
    "data.to_excel(\"Cleaned_zomato_dataset.xlsx\",index = False)"
   ]
  }
 ],
 "metadata": {
  "kernelspec": {
   "display_name": "Python 3 (ipykernel)",
   "language": "python",
   "name": "python3"
  },
  "language_info": {
   "codemirror_mode": {
    "name": "ipython",
    "version": 3
   },
   "file_extension": ".py",
   "mimetype": "text/x-python",
   "name": "python",
   "nbconvert_exporter": "python",
   "pygments_lexer": "ipython3",
   "version": "3.10.5"
  }
 },
 "nbformat": 4,
 "nbformat_minor": 5
}
